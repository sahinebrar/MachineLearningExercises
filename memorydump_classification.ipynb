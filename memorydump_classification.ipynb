{
  "cells": [
    {
      "cell_type": "markdown",
      "metadata": {
        "id": "view-in-github",
        "colab_type": "text"
      },
      "source": [
        "<a href=\"https://colab.research.google.com/github/sahinebrar/MachineLearningExercises/blob/main/memorydump_classification.ipynb\" target=\"_parent\"><img src=\"https://colab.research.google.com/assets/colab-badge.svg\" alt=\"Open In Colab\"/></a>"
      ]
    },
    {
      "cell_type": "code",
      "execution_count": 1,
      "metadata": {
        "id": "4F9cjan6qzhz"
      },
      "outputs": [],
      "source": [
        "import pandas as pd\n",
        "import seaborn as sn\n",
        "import numpy as np\n",
        "import matplotlib.pyplot as plt\n",
        "from sklearn.preprocessing import LabelEncoder\n",
        "from sklearn.model_selection import train_test_split\n",
        "from sklearn.preprocessing import StandardScaler\n",
        "from sklearn.preprocessing import MinMaxScaler\n",
        "from sklearn.metrics import confusion_matrix,accuracy_score\n",
        "from sklearn.model_selection import RandomizedSearchCV, GridSearchCV\n",
        "from imblearn.over_sampling import SMOTE\n",
        "\n",
        "from random import randint\n",
        "from sklearn.ensemble import RandomForestClassifier"
      ]
    },
    {
      "cell_type": "code",
      "source": [
        "from google.colab import drive\n",
        "drive.mount('/content/drive')"
      ],
      "metadata": {
        "colab": {
          "base_uri": "https://localhost:8080/"
        },
        "id": "MN_pOFLs1KPe",
        "outputId": "e3dc3bc0-c130-453a-f59d-06fddfa0bb49"
      },
      "execution_count": 2,
      "outputs": [
        {
          "output_type": "stream",
          "name": "stdout",
          "text": [
            "Mounted at /content/drive\n"
          ]
        }
      ]
    },
    {
      "cell_type": "code",
      "execution_count": 3,
      "metadata": {
        "colab": {
          "base_uri": "https://localhost:8080/",
          "height": 71
        },
        "id": "b337QeD5z8ns",
        "outputId": "9503bdba-d7fb-47a6-c2af-3c6f28d0c9c6"
      },
      "outputs": [
        {
          "output_type": "execute_result",
          "data": {
            "text/plain": [
              "'for index in range(0, len(df)):\\n  if df.loc[index, \"Category\"] == \"Benign\": \\n    continue\\n  temp = df.loc[index, \"Category\"].split(\"-\")\\n  df.loc[index, \"Category\"] =  \" \".join([temp[0], \"-\", temp[1]])\\n\\n# writing into the file\\ndf.to_csv(\"MalMem.csv\", index=False)'"
            ],
            "application/vnd.google.colaboratory.intrinsic+json": {
              "type": "string"
            }
          },
          "metadata": {},
          "execution_count": 3
        }
      ],
      "source": [
        "df = pd.read_csv(\"/content/drive/MyDrive/Doktora/MakinaOgrenmesi/MalMem.csv\")\n",
        "\n",
        "'''for index in range(0, len(df)):\n",
        "  if df.loc[index, \"Category\"] == \"Benign\": \n",
        "    continue\n",
        "  temp = df.loc[index, \"Category\"].split(\"-\")\n",
        "  df.loc[index, \"Category\"] =  \" \".join([temp[0], \"-\", temp[1]])\n",
        "\n",
        "# writing into the file\n",
        "df.to_csv(\"MalMem.csv\", index=False)'''"
      ]
    },
    {
      "cell_type": "code",
      "execution_count": 4,
      "metadata": {
        "colab": {
          "base_uri": "https://localhost:8080/"
        },
        "id": "PfY4HEaxITqy",
        "outputId": "1a50f59a-e0cf-4241-f308-5f6125356720"
      },
      "outputs": [
        {
          "output_type": "stream",
          "name": "stdout",
          "text": [
            "<class 'pandas.core.frame.DataFrame'>\n",
            "RangeIndex: 58596 entries, 0 to 58595\n",
            "Data columns (total 57 columns):\n",
            " #   Column                                  Non-Null Count  Dtype  \n",
            "---  ------                                  --------------  -----  \n",
            " 0   Category                                58596 non-null  object \n",
            " 1   pslist.nproc                            58596 non-null  int64  \n",
            " 2   pslist.nppid                            58596 non-null  int64  \n",
            " 3   pslist.avg_threads                      58596 non-null  float64\n",
            " 4   pslist.nprocs64bit                      58596 non-null  int64  \n",
            " 5   pslist.avg_handlers                     58596 non-null  float64\n",
            " 6   dlllist.ndlls                           58596 non-null  int64  \n",
            " 7   dlllist.avg_dlls_per_proc               58596 non-null  float64\n",
            " 8   handles.nhandles                        58596 non-null  int64  \n",
            " 9   handles.avg_handles_per_proc            58596 non-null  float64\n",
            " 10  handles.nport                           58596 non-null  int64  \n",
            " 11  handles.nfile                           58596 non-null  int64  \n",
            " 12  handles.nevent                          58596 non-null  int64  \n",
            " 13  handles.ndesktop                        58596 non-null  int64  \n",
            " 14  handles.nkey                            58596 non-null  int64  \n",
            " 15  handles.nthread                         58596 non-null  int64  \n",
            " 16  handles.ndirectory                      58596 non-null  int64  \n",
            " 17  handles.nsemaphore                      58596 non-null  int64  \n",
            " 18  handles.ntimer                          58596 non-null  int64  \n",
            " 19  handles.nsection                        58596 non-null  int64  \n",
            " 20  handles.nmutant                         58596 non-null  int64  \n",
            " 21  ldrmodules.not_in_load                  58596 non-null  int64  \n",
            " 22  ldrmodules.not_in_init                  58596 non-null  int64  \n",
            " 23  ldrmodules.not_in_mem                   58596 non-null  int64  \n",
            " 24  ldrmodules.not_in_load_avg              58596 non-null  float64\n",
            " 25  ldrmodules.not_in_init_avg              58596 non-null  float64\n",
            " 26  ldrmodules.not_in_mem_avg               58596 non-null  float64\n",
            " 27  malfind.ninjections                     58596 non-null  int64  \n",
            " 28  malfind.commitCharge                    58596 non-null  int64  \n",
            " 29  malfind.protection                      58596 non-null  int64  \n",
            " 30  malfind.uniqueInjections                58596 non-null  float64\n",
            " 31  psxview.not_in_pslist                   58596 non-null  int64  \n",
            " 32  psxview.not_in_eprocess_pool            58596 non-null  int64  \n",
            " 33  psxview.not_in_ethread_pool             58596 non-null  int64  \n",
            " 34  psxview.not_in_pspcid_list              58596 non-null  int64  \n",
            " 35  psxview.not_in_csrss_handles            58596 non-null  int64  \n",
            " 36  psxview.not_in_session                  58596 non-null  int64  \n",
            " 37  psxview.not_in_deskthrd                 58596 non-null  int64  \n",
            " 38  psxview.not_in_pslist_false_avg         58596 non-null  float64\n",
            " 39  psxview.not_in_eprocess_pool_false_avg  58596 non-null  float64\n",
            " 40  psxview.not_in_ethread_pool_false_avg   58596 non-null  float64\n",
            " 41  psxview.not_in_pspcid_list_false_avg    58596 non-null  float64\n",
            " 42  psxview.not_in_csrss_handles_false_avg  58596 non-null  float64\n",
            " 43  psxview.not_in_session_false_avg        58596 non-null  float64\n",
            " 44  psxview.not_in_deskthrd_false_avg       58596 non-null  float64\n",
            " 45  modules.nmodules                        58596 non-null  int64  \n",
            " 46  svcscan.nservices                       58596 non-null  int64  \n",
            " 47  svcscan.kernel_drivers                  58596 non-null  int64  \n",
            " 48  svcscan.fs_drivers                      58596 non-null  int64  \n",
            " 49  svcscan.process_services                58596 non-null  int64  \n",
            " 50  svcscan.shared_process_services         58596 non-null  int64  \n",
            " 51  svcscan.interactive_process_services    58596 non-null  int64  \n",
            " 52  svcscan.nactive                         58596 non-null  int64  \n",
            " 53  callbacks.ncallbacks                    58596 non-null  int64  \n",
            " 54  callbacks.nanonymous                    58596 non-null  int64  \n",
            " 55  callbacks.ngeneric                      58596 non-null  int64  \n",
            " 56  Class                                   58596 non-null  object \n",
            "dtypes: float64(15), int64(40), object(2)\n",
            "memory usage: 25.5+ MB\n",
            "None\n"
          ]
        }
      ],
      "source": [
        "print(df.info())"
      ]
    },
    {
      "cell_type": "code",
      "execution_count": 5,
      "metadata": {
        "colab": {
          "base_uri": "https://localhost:8080/"
        },
        "id": "9taNFFDeIcY3",
        "outputId": "8489dccc-820d-473d-96c1-51f50d4cc00f"
      },
      "outputs": [
        {
          "output_type": "stream",
          "name": "stdout",
          "text": [
            "       pslist.nproc  pslist.nppid  pslist.avg_threads  pslist.nprocs64bit  \\\n",
            "count  58596.000000  58596.000000        58596.000000             58596.0   \n",
            "mean      41.394771     14.713837           11.341655                 0.0   \n",
            "std        5.777249      2.656748            1.588231                 0.0   \n",
            "min       21.000000      8.000000            1.650000                 0.0   \n",
            "25%       40.000000     12.000000            9.972973                 0.0   \n",
            "50%       41.000000     15.000000           11.000000                 0.0   \n",
            "75%       43.000000     16.000000           12.861955                 0.0   \n",
            "max      240.000000     72.000000           16.818182                 0.0   \n",
            "\n",
            "       pslist.avg_handlers  dlllist.ndlls  dlllist.avg_dlls_per_proc  \\\n",
            "count         58596.000000   58596.000000               58596.000000   \n",
            "mean            247.509819    1810.805447                  43.707806   \n",
            "std             111.857790     329.782639                   5.742023   \n",
            "min              34.962500     670.000000                   7.333333   \n",
            "25%             208.725000    1556.000000                  38.833333   \n",
            "50%             243.963710    1735.000000                  42.781524   \n",
            "75%             289.974322    2087.000000                  49.605280   \n",
            "max           24845.951220    3443.000000                  53.170732   \n",
            "\n",
            "       handles.nhandles  handles.avg_handles_per_proc  handles.nport  ...  \\\n",
            "count      5.859600e+04                  58596.000000        58596.0  ...   \n",
            "mean       1.025858e+04                    249.560958            0.0  ...   \n",
            "std        4.866864e+03                    145.999866            0.0  ...   \n",
            "min        3.514000e+03                     71.139241            0.0  ...   \n",
            "25%        8.393000e+03                    209.648228            0.0  ...   \n",
            "50%        9.287500e+03                    247.208951            0.0  ...   \n",
            "75%        1.219300e+04                    291.355050            0.0  ...   \n",
            "max        1.047310e+06                  33784.193550            0.0  ...   \n",
            "\n",
            "       svcscan.nservices  svcscan.kernel_drivers  svcscan.fs_drivers  \\\n",
            "count       58596.000000            58596.000000        58596.000000   \n",
            "mean          391.347549              221.406581           25.996245   \n",
            "std             4.529704                1.991087            0.170790   \n",
            "min            94.000000               55.000000            6.000000   \n",
            "25%           389.000000              221.000000           26.000000   \n",
            "50%           389.000000              221.000000           26.000000   \n",
            "75%           395.000000              222.000000           26.000000   \n",
            "max           395.000000              222.000000           26.000000   \n",
            "\n",
            "       svcscan.process_services  svcscan.shared_process_services  \\\n",
            "count              58596.000000                     58596.000000   \n",
            "mean                  25.063417                       116.879514   \n",
            "std                    1.529628                         1.550401   \n",
            "min                    7.000000                        26.000000   \n",
            "25%                   24.000000                       116.000000   \n",
            "50%                   24.000000                       116.000000   \n",
            "75%                   27.000000                       118.000000   \n",
            "max                   27.000000                       118.000000   \n",
            "\n",
            "       svcscan.interactive_process_services  svcscan.nactive  \\\n",
            "count                               58596.0     58596.000000   \n",
            "mean                                    0.0       121.995546   \n",
            "std                                     0.0         2.822858   \n",
            "min                                     0.0        30.000000   \n",
            "25%                                     0.0       121.000000   \n",
            "50%                                     0.0       122.000000   \n",
            "75%                                     0.0       123.000000   \n",
            "max                                     0.0       129.000000   \n",
            "\n",
            "       callbacks.ncallbacks  callbacks.nanonymous  callbacks.ngeneric  \n",
            "count          58596.000000          58596.000000        58596.000000  \n",
            "mean              86.905659              0.000853            7.999881  \n",
            "std                3.134117              0.029199            0.010929  \n",
            "min               50.000000              0.000000            7.000000  \n",
            "25%               87.000000              0.000000            8.000000  \n",
            "50%               87.000000              0.000000            8.000000  \n",
            "75%               88.000000              0.000000            8.000000  \n",
            "max               89.000000              1.000000            8.000000  \n",
            "\n",
            "[8 rows x 55 columns]\n"
          ]
        }
      ],
      "source": [
        "print(df.describe())"
      ]
    },
    {
      "cell_type": "code",
      "execution_count": 6,
      "metadata": {
        "colab": {
          "base_uri": "https://localhost:8080/"
        },
        "id": "QQgzheWHIeIy",
        "outputId": "050512e4-a805-4c24-e6ff-1392e6c1176c"
      },
      "outputs": [
        {
          "output_type": "stream",
          "name": "stdout",
          "text": [
            "Category                                  0\n",
            "pslist.nproc                              0\n",
            "pslist.nppid                              0\n",
            "pslist.avg_threads                        0\n",
            "pslist.nprocs64bit                        0\n",
            "pslist.avg_handlers                       0\n",
            "dlllist.ndlls                             0\n",
            "dlllist.avg_dlls_per_proc                 0\n",
            "handles.nhandles                          0\n",
            "handles.avg_handles_per_proc              0\n",
            "handles.nport                             0\n",
            "handles.nfile                             0\n",
            "handles.nevent                            0\n",
            "handles.ndesktop                          0\n",
            "handles.nkey                              0\n",
            "handles.nthread                           0\n",
            "handles.ndirectory                        0\n",
            "handles.nsemaphore                        0\n",
            "handles.ntimer                            0\n",
            "handles.nsection                          0\n",
            "handles.nmutant                           0\n",
            "ldrmodules.not_in_load                    0\n",
            "ldrmodules.not_in_init                    0\n",
            "ldrmodules.not_in_mem                     0\n",
            "ldrmodules.not_in_load_avg                0\n",
            "ldrmodules.not_in_init_avg                0\n",
            "ldrmodules.not_in_mem_avg                 0\n",
            "malfind.ninjections                       0\n",
            "malfind.commitCharge                      0\n",
            "malfind.protection                        0\n",
            "malfind.uniqueInjections                  0\n",
            "psxview.not_in_pslist                     0\n",
            "psxview.not_in_eprocess_pool              0\n",
            "psxview.not_in_ethread_pool               0\n",
            "psxview.not_in_pspcid_list                0\n",
            "psxview.not_in_csrss_handles              0\n",
            "psxview.not_in_session                    0\n",
            "psxview.not_in_deskthrd                   0\n",
            "psxview.not_in_pslist_false_avg           0\n",
            "psxview.not_in_eprocess_pool_false_avg    0\n",
            "psxview.not_in_ethread_pool_false_avg     0\n",
            "psxview.not_in_pspcid_list_false_avg      0\n",
            "psxview.not_in_csrss_handles_false_avg    0\n",
            "psxview.not_in_session_false_avg          0\n",
            "psxview.not_in_deskthrd_false_avg         0\n",
            "modules.nmodules                          0\n",
            "svcscan.nservices                         0\n",
            "svcscan.kernel_drivers                    0\n",
            "svcscan.fs_drivers                        0\n",
            "svcscan.process_services                  0\n",
            "svcscan.shared_process_services           0\n",
            "svcscan.interactive_process_services      0\n",
            "svcscan.nactive                           0\n",
            "callbacks.ncallbacks                      0\n",
            "callbacks.nanonymous                      0\n",
            "callbacks.ngeneric                        0\n",
            "Class                                     0\n",
            "dtype: int64\n"
          ]
        }
      ],
      "source": [
        "print(df.isna().sum()) # no missing data"
      ]
    },
    {
      "cell_type": "code",
      "execution_count": 7,
      "metadata": {
        "colab": {
          "base_uri": "https://localhost:8080/",
          "height": 449
        },
        "id": "YK0q0U6NJBhF",
        "outputId": "91509624-a6bc-4321-891a-bc02f1662f68"
      },
      "outputs": [
        {
          "output_type": "display_data",
          "data": {
            "text/plain": [
              "<Figure size 640x480 with 1 Axes>"
            ],
            "image/png": "[encoded data removed]"
          },
          "metadata": {}
        }
      ],
      "source": [
        "lab=LabelEncoder()\n",
        "df['category']=lab.fit_transform(df['Category'])\n",
        "df['class']=lab.fit_transform(df['Class'])\n",
        "sn.countplot(x = 'Class', data= df)\n",
        "plt.show()"
      ]
    },
    {
      "cell_type": "code",
      "execution_count": 8,
      "metadata": {
        "colab": {
          "base_uri": "https://localhost:8080/"
        },
        "id": "9sWzUCjQN6Y1",
        "outputId": "cbd0f70b-e2c7-4d01-a720-261956d42ca2"
      },
      "outputs": [
        {
          "output_type": "execute_result",
          "data": {
            "text/plain": [
              "{0: 'Benign',\n",
              " 1: 'Ransomware - Ako',\n",
              " 2: 'Ransomware - Conti',\n",
              " 3: 'Ransomware - Maze',\n",
              " 4: 'Ransomware - Pysa',\n",
              " 5: 'Ransomware - Shade',\n",
              " 6: 'Spyware - 180solutions',\n",
              " 7: 'Spyware - CWS',\n",
              " 8: 'Spyware - Gator',\n",
              " 9: 'Spyware - TIBS',\n",
              " 10: 'Spyware - Transponder',\n",
              " 11: 'Trojan - Emotet',\n",
              " 12: 'Trojan - Reconyc',\n",
              " 13: 'Trojan - Refroso',\n",
              " 14: 'Trojan - Scar',\n",
              " 15: 'Trojan - Zeus'}"
            ]
          },
          "metadata": {},
          "execution_count": 8
        }
      ],
      "source": [
        "label_mapping = dict(zip(df['category'], df['Category']))\n",
        "label_mapping"
      ]
    },
    {
      "cell_type": "code",
      "execution_count": 9,
      "metadata": {
        "colab": {
          "base_uri": "https://localhost:8080/",
          "height": 449
        },
        "id": "bX16jeYHPALX",
        "outputId": "12af144f-152b-4822-bbb7-64ac78744662"
      },
      "outputs": [
        {
          "output_type": "display_data",
          "data": {
            "text/plain": [
              "<Figure size 640x480 with 1 Axes>"
            ],
            "image/png": "[encoded data removed]"
          },
          "metadata": {}
        }
      ],
      "source": [
        "sn.countplot(x = 'category', data= df)\n",
        "plt.show()"
      ]
    },
    {
      "cell_type": "code",
      "execution_count": 10,
      "metadata": {
        "colab": {
          "base_uri": "https://localhost:8080/"
        },
        "id": "UCAx1RnMPXRN",
        "outputId": "5e164dcf-96c4-48e3-8bc8-15dc5792571d"
      },
      "outputs": [
        {
          "output_type": "stream",
          "name": "stdout",
          "text": [
            "(14649, 1)\n"
          ]
        }
      ],
      "source": [
        "# split traing & test \n",
        "x = df[['pslist.nproc', 'pslist.nppid', 'pslist.avg_threads',\n",
        "       'pslist.nprocs64bit', 'pslist.avg_handlers', 'dlllist.ndlls',\n",
        "       'dlllist.avg_dlls_per_proc', 'handles.nhandles',\n",
        "       'handles.avg_handles_per_proc', 'handles.nport', 'handles.nfile',\n",
        "       'handles.nevent', 'handles.ndesktop', 'handles.nkey', 'handles.nthread',\n",
        "       'handles.ndirectory', 'handles.nsemaphore', 'handles.ntimer',\n",
        "       'handles.nsection', 'handles.nmutant', 'ldrmodules.not_in_load',\n",
        "       'ldrmodules.not_in_init', 'ldrmodules.not_in_mem',\n",
        "       'ldrmodules.not_in_load_avg', 'ldrmodules.not_in_init_avg',\n",
        "       'ldrmodules.not_in_mem_avg', 'malfind.ninjections',\n",
        "       'malfind.commitCharge', 'malfind.protection',\n",
        "       'malfind.uniqueInjections', 'psxview.not_in_pslist',\n",
        "       'psxview.not_in_eprocess_pool', 'psxview.not_in_ethread_pool',\n",
        "       'psxview.not_in_pspcid_list', 'psxview.not_in_csrss_handles',\n",
        "       'psxview.not_in_session', 'psxview.not_in_deskthrd',\n",
        "       'psxview.not_in_pslist_false_avg',\n",
        "       'psxview.not_in_eprocess_pool_false_avg',\n",
        "       'psxview.not_in_ethread_pool_false_avg',\n",
        "       'psxview.not_in_pspcid_list_false_avg',\n",
        "       'psxview.not_in_csrss_handles_false_avg',\n",
        "       'psxview.not_in_session_false_avg', 'psxview.not_in_deskthrd_false_avg',\n",
        "       'modules.nmodules', 'svcscan.nservices', 'svcscan.kernel_drivers',\n",
        "       'svcscan.fs_drivers', 'svcscan.process_services',\n",
        "       'svcscan.shared_process_services',\n",
        "       'svcscan.interactive_process_services', 'svcscan.nactive',\n",
        "       'callbacks.ncallbacks', 'callbacks.nanonymous', 'callbacks.ngeneric']]\n",
        "y = df[['category']]\n",
        "x_train,x_test,y_train,y_test=train_test_split(x,y)\n",
        "#smote = SMOTE(random_state=42)\n",
        "#x_train, y_train = smote.fit_resample(x_train, y_train)\n",
        "print(y_test.shape)"
      ]
    },
    {
      "cell_type": "code",
      "execution_count": 11,
      "metadata": {
        "id": "c1uS3eOAIGK3"
      },
      "outputs": [],
      "source": [
        "standardscaler = StandardScaler()\n",
        "x_train_standardscaler = standardscaler.fit_transform(x_train)\n",
        "x_test_standardscaler = standardscaler.transform(x_test)"
      ]
    },
    {
      "cell_type": "code",
      "execution_count": 23,
      "metadata": {
        "id": "cq07YQgSQvfo",
        "colab": {
          "base_uri": "https://localhost:8080/"
        },
        "outputId": "50982ffb-3bf9-4a5c-d584-e20d2c37bdec"
      },
      "outputs": [
        {
          "output_type": "stream",
          "name": "stderr",
          "text": [
            "/usr/local/lib/python3.10/dist-packages/sklearn/ensemble/_forest.py:424: FutureWarning: `max_features='auto'` has been deprecated in 1.1 and will be removed in 1.3. To keep the past behaviour, explicitly set `max_features='sqrt'` or remove this parameter as it is also the default value for RandomForestClassifiers and ExtraTreesClassifiers.\n",
            "  warn(\n"
          ]
        }
      ],
      "source": [
        "# Random Forest Classifier (Library)\n",
        "\n",
        "#rf=RandomForestClassifier(n_estimators=278, oob_score = True, max_features=30)#\n",
        "rf=RandomForestClassifier(n_estimators=278, min_samples_split=5, min_samples_leaf=2, max_features='auto', max_depth=4, bootstrap= True)\n",
        "history = rf.fit(x_train_standardscaler, y_train.values.ravel())"
      ]
    },
    {
      "cell_type": "code",
      "execution_count": 24,
      "metadata": {
        "id": "aQDBz0eLK3y5"
      },
      "outputs": [],
      "source": [
        "# Random Forest Classifier (Library) Test\n",
        "prediction = rf.predict(x_test_standardscaler)"
      ]
    },
    {
      "cell_type": "code",
      "execution_count": 25,
      "metadata": {
        "colab": {
          "base_uri": "https://localhost:8080/"
        },
        "id": "UJnz87DWL7Bx",
        "outputId": "1d382666-f505-48d5-94df-0a9b6e717069"
      },
      "outputs": [
        {
          "output_type": "stream",
          "name": "stdout",
          "text": [
            "0.6004505426991603\n"
          ]
        }
      ],
      "source": [
        "acc_randomforest = accuracy_score(y_test, prediction)\n",
        "print(acc_randomforest)"
      ]
    },
    {
      "cell_type": "code",
      "execution_count": 18,
      "metadata": {
        "colab": {
          "base_uri": "https://localhost:8080/",
          "height": 163
        },
        "id": "fxCR9SaQ-5H0",
        "outputId": "7ff04ac0-3089-4f91-e5c7-222d3a2155e5"
      },
      "outputs": [
        {
          "output_type": "stream",
          "name": "stdout",
          "text": [
            "{'n_estimators': [201, 212, 223, 234, 245, 256, 267, 278, 289, 300], 'max_features': ['auto', 'sqrt'], 'max_depth': [2, 4], 'min_samples_split': [2, 5], 'min_samples_leaf': [1, 2], 'bootstrap': [True, False]}\n",
            "Fitting 10 folds for each of 10 candidates, totalling 100 fits\n"
          ]
        },
        {
          "output_type": "stream",
          "name": "stderr",
          "text": [
            "/usr/local/lib/python3.10/dist-packages/sklearn/ensemble/_forest.py:424: FutureWarning: `max_features='auto'` has been deprecated in 1.1 and will be removed in 1.3. To keep the past behaviour, explicitly set `max_features='sqrt'` or remove this parameter as it is also the default value for RandomForestClassifiers and ExtraTreesClassifiers.\n",
            "  warn(\n"
          ]
        },
        {
          "output_type": "execute_result",
          "data": {
            "text/plain": [
              "'rf = RandomForestClassifier()\\nrf_random = RandomizedSearchCV(estimator = rf, param_distributions = random_grid, n_iter = 100, cv = 3, verbose=2, random_state=42, n_jobs = -1)\\nrf_random.fit(x_train_standardscaler, y_train.values.ravel())\\nprint(rf_random.best_params_)'"
            ],
            "application/vnd.google.colaboratory.intrinsic+json": {
              "type": "string"
            }
          },
          "metadata": {},
          "execution_count": 18
        }
      ],
      "source": [
        "# Number of trees in random forest\n",
        "n_estimators = [int(x) for x in np.linspace(start = 201, stop = 300, num = 10)]\n",
        "# Number of features to consider at every split\n",
        "max_features = ['auto', 'sqrt']\n",
        "# Maximum number of levels in tree\n",
        "max_depth = [2,4]\n",
        "# Minimum number of samples required to split a node\n",
        "min_samples_split = [2, 5]\n",
        "# Minimum number of samples required at each leaf node\n",
        "min_samples_leaf = [1, 2]\n",
        "# Method of selecting samples for training each tree\n",
        "bootstrap = [True, False]\n",
        "\n",
        "# Create the param grid\n",
        "param_grid = {'n_estimators': n_estimators,\n",
        "               'max_features': max_features,\n",
        "               'max_depth': max_depth,\n",
        "               'min_samples_split': min_samples_split,\n",
        "               'min_samples_leaf': min_samples_leaf,\n",
        "               'bootstrap': bootstrap}\n",
        "print(param_grid)\n",
        "\n",
        "rf_Model = RandomForestClassifier()\n",
        "\n",
        "rf_RandomGrid = RandomizedSearchCV(estimator = rf_Model, param_distributions = param_grid, cv = 10, verbose=2, n_jobs = 4)\n",
        "rf_RandomGrid.fit(x_train_standardscaler, y_train.values.ravel())\n",
        "\n",
        "'''rf = RandomForestClassifier()\n",
        "rf_random = RandomizedSearchCV(estimator = rf, param_distributions = random_grid, n_iter = 100, cv = 3, verbose=2, random_state=42, n_jobs = -1)\n",
        "rf_random.fit(x_train_standardscaler, y_train.values.ravel())\n",
        "print(rf_random.best_params_)'''"
      ]
    },
    {
      "cell_type": "code",
      "source": [
        "print(rf_RandomGrid.best_params_)\n",
        "print (f'Train Accuracy - : {rf_RandomGrid.score(x_train_standardscaler,y_train.values.ravel()):.3f}')\n",
        "print (f'Test Accuracy - : {rf_RandomGrid.score(x_test_standardscaler,y_test):.3f}')"
      ],
      "metadata": {
        "colab": {
          "base_uri": "https://localhost:8080/"
        },
        "id": "VF4fQyS33ofo",
        "outputId": "fd7f3d3b-6864-4310-9c7b-487ca9dbd8ed"
      },
      "execution_count": 22,
      "outputs": [
        {
          "output_type": "stream",
          "name": "stdout",
          "text": [
            "{'n_estimators': 278, 'min_samples_split': 5, 'min_samples_leaf': 2, 'max_features': 'auto', 'max_depth': 4, 'bootstrap': True}\n",
            "Train Accuracy - : 0.595\n",
            "Test Accuracy - : 0.602\n"
          ]
        }
      ]
    },
    {
      "cell_type": "code",
      "source": [
        "from sklearn.model_selection import cross_val_score\n",
        "random_forest = RandomForestClassifier(n_estimators=200, oob_score = True, max_features=30)\n",
        "\n",
        "# Perform cross-validation\n",
        "cv_scores = cross_val_score(random_forest, x_train_standardscaler, y_train.values.ravel(), cv=5)  # 5-fold cross-validation\n",
        "\n",
        "# Print the cross-validation scores\n",
        "print(\"Cross-validation scores:\", cv_scores)\n",
        "print(\"Mean cross-validation score:\", cv_scores.mean())"
      ],
      "metadata": {
        "colab": {
          "base_uri": "https://localhost:8080/"
        },
        "id": "HSDup-WFQv6R",
        "outputId": "53bbd568-1105-4c78-bd93-ebf929d0f622"
      },
      "execution_count": 32,
      "outputs": [
        {
          "output_type": "stream",
          "name": "stdout",
          "text": [
            "Cross-validation scores: [0.75324232 0.75870307 0.75935829 0.7598134  0.75537604]\n",
            "Mean cross-validation score: 0.7572986245217319\n"
          ]
        }
      ]
    },
    {
      "cell_type": "code",
      "execution_count": null,
      "metadata": {
        "colab": {
          "base_uri": "https://localhost:8080/",
          "height": 416
        },
        "id": "QCSr_4xwS6Rg",
        "outputId": "79b413a4-19df-4b83-a501-da684c02cc70"
      },
      "outputs": [
        {
          "name": "stdout",
          "output_type": "stream",
          "text": [
            "max_feature:  21  Accuracy:  0.7613488975356679\n",
            "max_feature:  22  Accuracy:  0.7613488975356679\n"
          ]
        },
        {
          "ename": "KeyboardInterrupt",
          "evalue": "ignored",
          "output_type": "error",
          "traceback": [
            "\u001b[0;31m---------------------------------------------------------------------------\u001b[0m",
            "\u001b[0;31mKeyboardInterrupt\u001b[0m                         Traceback (most recent call last)",
            "\u001b[0;32m<ipython-input-17-738442d56601>\u001b[0m in \u001b[0;36m<cell line: 1>\u001b[0;34m()\u001b[0m\n\u001b[1;32m      1\u001b[0m \u001b[0;32mfor\u001b[0m \u001b[0mindex\u001b[0m \u001b[0;32min\u001b[0m \u001b[0mrange\u001b[0m\u001b[0;34m(\u001b[0m\u001b[0;36m21\u001b[0m\u001b[0;34m,\u001b[0m\u001b[0;36m50\u001b[0m\u001b[0;34m)\u001b[0m\u001b[0;34m:\u001b[0m\u001b[0;34m\u001b[0m\u001b[0;34m\u001b[0m\u001b[0m\n\u001b[1;32m      2\u001b[0m   \u001b[0mclassifier\u001b[0m\u001b[0;34m=\u001b[0m \u001b[0mRandomForestClassifier\u001b[0m\u001b[0;34m(\u001b[0m\u001b[0mn_estimators\u001b[0m\u001b[0;34m=\u001b[0m\u001b[0;36m200\u001b[0m\u001b[0;34m,\u001b[0m\u001b[0moob_score\u001b[0m \u001b[0;34m=\u001b[0m \u001b[0;32mTrue\u001b[0m\u001b[0;34m,\u001b[0m \u001b[0mmax_features\u001b[0m\u001b[0;34m=\u001b[0m\u001b[0mindex\u001b[0m \u001b[0;34m)\u001b[0m\u001b[0;34m\u001b[0m\u001b[0;34m\u001b[0m\u001b[0m\n\u001b[0;32m----> 3\u001b[0;31m   \u001b[0mclassifier\u001b[0m\u001b[0;34m.\u001b[0m\u001b[0mfit\u001b[0m\u001b[0;34m(\u001b[0m\u001b[0mx_train_standardscaler\u001b[0m\u001b[0;34m,\u001b[0m \u001b[0my_train\u001b[0m\u001b[0;34m.\u001b[0m\u001b[0mvalues\u001b[0m\u001b[0;34m.\u001b[0m\u001b[0mravel\u001b[0m\u001b[0;34m(\u001b[0m\u001b[0;34m)\u001b[0m\u001b[0;34m)\u001b[0m\u001b[0;34m\u001b[0m\u001b[0;34m\u001b[0m\u001b[0m\n\u001b[0m\u001b[1;32m      4\u001b[0m   \u001b[0mprediction\u001b[0m \u001b[0;34m=\u001b[0m \u001b[0mrf\u001b[0m\u001b[0;34m.\u001b[0m\u001b[0mpredict\u001b[0m\u001b[0;34m(\u001b[0m\u001b[0mx_test_standardscaler\u001b[0m\u001b[0;34m)\u001b[0m\u001b[0;34m\u001b[0m\u001b[0;34m\u001b[0m\u001b[0m\n\u001b[1;32m      5\u001b[0m   \u001b[0macc_standardscaler\u001b[0m \u001b[0;34m=\u001b[0m \u001b[0maccuracy_score\u001b[0m\u001b[0;34m(\u001b[0m\u001b[0my_test\u001b[0m\u001b[0;34m,\u001b[0m \u001b[0mprediction\u001b[0m\u001b[0;34m)\u001b[0m\u001b[0;34m\u001b[0m\u001b[0;34m\u001b[0m\u001b[0m\n",
            "\u001b[0;32m/usr/local/lib/python3.10/dist-packages/sklearn/ensemble/_forest.py\u001b[0m in \u001b[0;36mfit\u001b[0;34m(self, X, y, sample_weight)\u001b[0m\n\u001b[1;32m    471\u001b[0m             \u001b[0;31m# parallel_backend contexts set at a higher level,\u001b[0m\u001b[0;34m\u001b[0m\u001b[0;34m\u001b[0m\u001b[0m\n\u001b[1;32m    472\u001b[0m             \u001b[0;31m# since correctness does not rely on using threads.\u001b[0m\u001b[0;34m\u001b[0m\u001b[0;34m\u001b[0m\u001b[0m\n\u001b[0;32m--> 473\u001b[0;31m             trees = Parallel(\n\u001b[0m\u001b[1;32m    474\u001b[0m                 \u001b[0mn_jobs\u001b[0m\u001b[0;34m=\u001b[0m\u001b[0mself\u001b[0m\u001b[0;34m.\u001b[0m\u001b[0mn_jobs\u001b[0m\u001b[0;34m,\u001b[0m\u001b[0;34m\u001b[0m\u001b[0;34m\u001b[0m\u001b[0m\n\u001b[1;32m    475\u001b[0m                 \u001b[0mverbose\u001b[0m\u001b[0;34m=\u001b[0m\u001b[0mself\u001b[0m\u001b[0;34m.\u001b[0m\u001b[0mverbose\u001b[0m\u001b[0;34m,\u001b[0m\u001b[0;34m\u001b[0m\u001b[0;34m\u001b[0m\u001b[0m\n",
            "\u001b[0;32m/usr/local/lib/python3.10/dist-packages/sklearn/utils/parallel.py\u001b[0m in \u001b[0;36m__call__\u001b[0;34m(self, iterable)\u001b[0m\n\u001b[1;32m     61\u001b[0m             \u001b[0;32mfor\u001b[0m \u001b[0mdelayed_func\u001b[0m\u001b[0;34m,\u001b[0m \u001b[0margs\u001b[0m\u001b[0;34m,\u001b[0m \u001b[0mkwargs\u001b[0m \u001b[0;32min\u001b[0m \u001b[0miterable\u001b[0m\u001b[0;34m\u001b[0m\u001b[0;34m\u001b[0m\u001b[0m\n\u001b[1;32m     62\u001b[0m         )\n\u001b[0;32m---> 63\u001b[0;31m         \u001b[0;32mreturn\u001b[0m \u001b[0msuper\u001b[0m\u001b[0;34m(\u001b[0m\u001b[0;34m)\u001b[0m\u001b[0;34m.\u001b[0m\u001b[0m__call__\u001b[0m\u001b[0;34m(\u001b[0m\u001b[0miterable_with_config\u001b[0m\u001b[0;34m)\u001b[0m\u001b[0;34m\u001b[0m\u001b[0;34m\u001b[0m\u001b[0m\n\u001b[0m\u001b[1;32m     64\u001b[0m \u001b[0;34m\u001b[0m\u001b[0m\n\u001b[1;32m     65\u001b[0m \u001b[0;34m\u001b[0m\u001b[0m\n",
            "\u001b[0;32m/usr/local/lib/python3.10/dist-packages/joblib/parallel.py\u001b[0m in \u001b[0;36m__call__\u001b[0;34m(self, iterable)\u001b[0m\n\u001b[1;32m   1086\u001b[0m                 \u001b[0mself\u001b[0m\u001b[0;34m.\u001b[0m\u001b[0m_iterating\u001b[0m \u001b[0;34m=\u001b[0m \u001b[0mself\u001b[0m\u001b[0;34m.\u001b[0m\u001b[0m_original_iterator\u001b[0m \u001b[0;32mis\u001b[0m \u001b[0;32mnot\u001b[0m \u001b[0;32mNone\u001b[0m\u001b[0;34m\u001b[0m\u001b[0;34m\u001b[0m\u001b[0m\n\u001b[1;32m   1087\u001b[0m \u001b[0;34m\u001b[0m\u001b[0m\n\u001b[0;32m-> 1088\u001b[0;31m             \u001b[0;32mwhile\u001b[0m \u001b[0mself\u001b[0m\u001b[0;34m.\u001b[0m\u001b[0mdispatch_one_batch\u001b[0m\u001b[0;34m(\u001b[0m\u001b[0miterator\u001b[0m\u001b[0;34m)\u001b[0m\u001b[0;34m:\u001b[0m\u001b[0;34m\u001b[0m\u001b[0;34m\u001b[0m\u001b[0m\n\u001b[0m\u001b[1;32m   1089\u001b[0m                 \u001b[0;32mpass\u001b[0m\u001b[0;34m\u001b[0m\u001b[0;34m\u001b[0m\u001b[0m\n\u001b[1;32m   1090\u001b[0m \u001b[0;34m\u001b[0m\u001b[0m\n",
            "\u001b[0;32m/usr/local/lib/python3.10/dist-packages/joblib/parallel.py\u001b[0m in \u001b[0;36mdispatch_one_batch\u001b[0;34m(self, iterator)\u001b[0m\n\u001b[1;32m    899\u001b[0m                 \u001b[0;32mreturn\u001b[0m \u001b[0;32mFalse\u001b[0m\u001b[0;34m\u001b[0m\u001b[0;34m\u001b[0m\u001b[0m\n\u001b[1;32m    900\u001b[0m             \u001b[0;32melse\u001b[0m\u001b[0;34m:\u001b[0m\u001b[0;34m\u001b[0m\u001b[0;34m\u001b[0m\u001b[0m\n\u001b[0;32m--> 901\u001b[0;31m                 \u001b[0mself\u001b[0m\u001b[0;34m.\u001b[0m\u001b[0m_dispatch\u001b[0m\u001b[0;34m(\u001b[0m\u001b[0mtasks\u001b[0m\u001b[0;34m)\u001b[0m\u001b[0;34m\u001b[0m\u001b[0;34m\u001b[0m\u001b[0m\n\u001b[0m\u001b[1;32m    902\u001b[0m                 \u001b[0;32mreturn\u001b[0m \u001b[0;32mTrue\u001b[0m\u001b[0;34m\u001b[0m\u001b[0;34m\u001b[0m\u001b[0m\n\u001b[1;32m    903\u001b[0m \u001b[0;34m\u001b[0m\u001b[0m\n",
            "\u001b[0;32m/usr/local/lib/python3.10/dist-packages/joblib/parallel.py\u001b[0m in \u001b[0;36m_dispatch\u001b[0;34m(self, batch)\u001b[0m\n\u001b[1;32m    817\u001b[0m         \u001b[0;32mwith\u001b[0m \u001b[0mself\u001b[0m\u001b[0;34m.\u001b[0m\u001b[0m_lock\u001b[0m\u001b[0;34m:\u001b[0m\u001b[0;34m\u001b[0m\u001b[0;34m\u001b[0m\u001b[0m\n\u001b[1;32m    818\u001b[0m             \u001b[0mjob_idx\u001b[0m \u001b[0;34m=\u001b[0m \u001b[0mlen\u001b[0m\u001b[0;34m(\u001b[0m\u001b[0mself\u001b[0m\u001b[0;34m.\u001b[0m\u001b[0m_jobs\u001b[0m\u001b[0;34m)\u001b[0m\u001b[0;34m\u001b[0m\u001b[0;34m\u001b[0m\u001b[0m\n\u001b[0;32m--> 819\u001b[0;31m             \u001b[0mjob\u001b[0m \u001b[0;34m=\u001b[0m \u001b[0mself\u001b[0m\u001b[0;34m.\u001b[0m\u001b[0m_backend\u001b[0m\u001b[0;34m.\u001b[0m\u001b[0mapply_async\u001b[0m\u001b[0;34m(\u001b[0m\u001b[0mbatch\u001b[0m\u001b[0;34m,\u001b[0m \u001b[0mcallback\u001b[0m\u001b[0;34m=\u001b[0m\u001b[0mcb\u001b[0m\u001b[0;34m)\u001b[0m\u001b[0;34m\u001b[0m\u001b[0;34m\u001b[0m\u001b[0m\n\u001b[0m\u001b[1;32m    820\u001b[0m             \u001b[0;31m# A job can complete so quickly than its callback is\u001b[0m\u001b[0;34m\u001b[0m\u001b[0;34m\u001b[0m\u001b[0m\n\u001b[1;32m    821\u001b[0m             \u001b[0;31m# called before we get here, causing self._jobs to\u001b[0m\u001b[0;34m\u001b[0m\u001b[0;34m\u001b[0m\u001b[0m\n",
            "\u001b[0;32m/usr/local/lib/python3.10/dist-packages/joblib/_parallel_backends.py\u001b[0m in \u001b[0;36mapply_async\u001b[0;34m(self, func, callback)\u001b[0m\n\u001b[1;32m    206\u001b[0m     \u001b[0;32mdef\u001b[0m \u001b[0mapply_async\u001b[0m\u001b[0;34m(\u001b[0m\u001b[0mself\u001b[0m\u001b[0;34m,\u001b[0m \u001b[0mfunc\u001b[0m\u001b[0;34m,\u001b[0m \u001b[0mcallback\u001b[0m\u001b[0;34m=\u001b[0m\u001b[0;32mNone\u001b[0m\u001b[0;34m)\u001b[0m\u001b[0;34m:\u001b[0m\u001b[0;34m\u001b[0m\u001b[0;34m\u001b[0m\u001b[0m\n\u001b[1;32m    207\u001b[0m         \u001b[0;34m\"\"\"Schedule a func to be run\"\"\"\u001b[0m\u001b[0;34m\u001b[0m\u001b[0;34m\u001b[0m\u001b[0m\n\u001b[0;32m--> 208\u001b[0;31m         \u001b[0mresult\u001b[0m \u001b[0;34m=\u001b[0m \u001b[0mImmediateResult\u001b[0m\u001b[0;34m(\u001b[0m\u001b[0mfunc\u001b[0m\u001b[0;34m)\u001b[0m\u001b[0;34m\u001b[0m\u001b[0;34m\u001b[0m\u001b[0m\n\u001b[0m\u001b[1;32m    209\u001b[0m         \u001b[0;32mif\u001b[0m \u001b[0mcallback\u001b[0m\u001b[0;34m:\u001b[0m\u001b[0;34m\u001b[0m\u001b[0;34m\u001b[0m\u001b[0m\n\u001b[1;32m    210\u001b[0m             \u001b[0mcallback\u001b[0m\u001b[0;34m(\u001b[0m\u001b[0mresult\u001b[0m\u001b[0;34m)\u001b[0m\u001b[0;34m\u001b[0m\u001b[0;34m\u001b[0m\u001b[0m\n",
            "\u001b[0;32m/usr/local/lib/python3.10/dist-packages/joblib/_parallel_backends.py\u001b[0m in \u001b[0;36m__init__\u001b[0;34m(self, batch)\u001b[0m\n\u001b[1;32m    595\u001b[0m         \u001b[0;31m# Don't delay the application, to avoid keeping the input\u001b[0m\u001b[0;34m\u001b[0m\u001b[0;34m\u001b[0m\u001b[0m\n\u001b[1;32m    596\u001b[0m         \u001b[0;31m# arguments in memory\u001b[0m\u001b[0;34m\u001b[0m\u001b[0;34m\u001b[0m\u001b[0m\n\u001b[0;32m--> 597\u001b[0;31m         \u001b[0mself\u001b[0m\u001b[0;34m.\u001b[0m\u001b[0mresults\u001b[0m \u001b[0;34m=\u001b[0m \u001b[0mbatch\u001b[0m\u001b[0;34m(\u001b[0m\u001b[0;34m)\u001b[0m\u001b[0;34m\u001b[0m\u001b[0;34m\u001b[0m\u001b[0m\n\u001b[0m\u001b[1;32m    598\u001b[0m \u001b[0;34m\u001b[0m\u001b[0m\n\u001b[1;32m    599\u001b[0m     \u001b[0;32mdef\u001b[0m \u001b[0mget\u001b[0m\u001b[0;34m(\u001b[0m\u001b[0mself\u001b[0m\u001b[0;34m)\u001b[0m\u001b[0;34m:\u001b[0m\u001b[0;34m\u001b[0m\u001b[0;34m\u001b[0m\u001b[0m\n",
            "\u001b[0;32m/usr/local/lib/python3.10/dist-packages/joblib/parallel.py\u001b[0m in \u001b[0;36m__call__\u001b[0;34m(self)\u001b[0m\n\u001b[1;32m    286\u001b[0m         \u001b[0;31m# change the default number of processes to -1\u001b[0m\u001b[0;34m\u001b[0m\u001b[0;34m\u001b[0m\u001b[0m\n\u001b[1;32m    287\u001b[0m         \u001b[0;32mwith\u001b[0m \u001b[0mparallel_backend\u001b[0m\u001b[0;34m(\u001b[0m\u001b[0mself\u001b[0m\u001b[0;34m.\u001b[0m\u001b[0m_backend\u001b[0m\u001b[0;34m,\u001b[0m \u001b[0mn_jobs\u001b[0m\u001b[0;34m=\u001b[0m\u001b[0mself\u001b[0m\u001b[0;34m.\u001b[0m\u001b[0m_n_jobs\u001b[0m\u001b[0;34m)\u001b[0m\u001b[0;34m:\u001b[0m\u001b[0;34m\u001b[0m\u001b[0;34m\u001b[0m\u001b[0m\n\u001b[0;32m--> 288\u001b[0;31m             return [func(*args, **kwargs)\n\u001b[0m\u001b[1;32m    289\u001b[0m                     for func, args, kwargs in self.items]\n\u001b[1;32m    290\u001b[0m \u001b[0;34m\u001b[0m\u001b[0m\n",
            "\u001b[0;32m/usr/local/lib/python3.10/dist-packages/joblib/parallel.py\u001b[0m in \u001b[0;36m<listcomp>\u001b[0;34m(.0)\u001b[0m\n\u001b[1;32m    286\u001b[0m         \u001b[0;31m# change the default number of processes to -1\u001b[0m\u001b[0;34m\u001b[0m\u001b[0;34m\u001b[0m\u001b[0m\n\u001b[1;32m    287\u001b[0m         \u001b[0;32mwith\u001b[0m \u001b[0mparallel_backend\u001b[0m\u001b[0;34m(\u001b[0m\u001b[0mself\u001b[0m\u001b[0;34m.\u001b[0m\u001b[0m_backend\u001b[0m\u001b[0;34m,\u001b[0m \u001b[0mn_jobs\u001b[0m\u001b[0;34m=\u001b[0m\u001b[0mself\u001b[0m\u001b[0;34m.\u001b[0m\u001b[0m_n_jobs\u001b[0m\u001b[0;34m)\u001b[0m\u001b[0;34m:\u001b[0m\u001b[0;34m\u001b[0m\u001b[0;34m\u001b[0m\u001b[0m\n\u001b[0;32m--> 288\u001b[0;31m             return [func(*args, **kwargs)\n\u001b[0m\u001b[1;32m    289\u001b[0m                     for func, args, kwargs in self.items]\n\u001b[1;32m    290\u001b[0m \u001b[0;34m\u001b[0m\u001b[0m\n",
            "\u001b[0;32m/usr/local/lib/python3.10/dist-packages/sklearn/utils/parallel.py\u001b[0m in \u001b[0;36m__call__\u001b[0;34m(self, *args, **kwargs)\u001b[0m\n\u001b[1;32m    121\u001b[0m             \u001b[0mconfig\u001b[0m \u001b[0;34m=\u001b[0m \u001b[0;34m{\u001b[0m\u001b[0;34m}\u001b[0m\u001b[0;34m\u001b[0m\u001b[0;34m\u001b[0m\u001b[0m\n\u001b[1;32m    122\u001b[0m         \u001b[0;32mwith\u001b[0m \u001b[0mconfig_context\u001b[0m\u001b[0;34m(\u001b[0m\u001b[0;34m**\u001b[0m\u001b[0mconfig\u001b[0m\u001b[0;34m)\u001b[0m\u001b[0;34m:\u001b[0m\u001b[0;34m\u001b[0m\u001b[0;34m\u001b[0m\u001b[0m\n\u001b[0;32m--> 123\u001b[0;31m             \u001b[0;32mreturn\u001b[0m \u001b[0mself\u001b[0m\u001b[0;34m.\u001b[0m\u001b[0mfunction\u001b[0m\u001b[0;34m(\u001b[0m\u001b[0;34m*\u001b[0m\u001b[0margs\u001b[0m\u001b[0;34m,\u001b[0m \u001b[0;34m**\u001b[0m\u001b[0mkwargs\u001b[0m\u001b[0;34m)\u001b[0m\u001b[0;34m\u001b[0m\u001b[0;34m\u001b[0m\u001b[0m\n\u001b[0m",
            "\u001b[0;32m/usr/local/lib/python3.10/dist-packages/sklearn/ensemble/_forest.py\u001b[0m in \u001b[0;36m_parallel_build_trees\u001b[0;34m(tree, bootstrap, X, y, sample_weight, tree_idx, n_trees, verbose, class_weight, n_samples_bootstrap)\u001b[0m\n\u001b[1;32m    182\u001b[0m             \u001b[0mcurr_sample_weight\u001b[0m \u001b[0;34m*=\u001b[0m \u001b[0mcompute_sample_weight\u001b[0m\u001b[0;34m(\u001b[0m\u001b[0;34m\"balanced\"\u001b[0m\u001b[0;34m,\u001b[0m \u001b[0my\u001b[0m\u001b[0;34m,\u001b[0m \u001b[0mindices\u001b[0m\u001b[0;34m=\u001b[0m\u001b[0mindices\u001b[0m\u001b[0;34m)\u001b[0m\u001b[0;34m\u001b[0m\u001b[0;34m\u001b[0m\u001b[0m\n\u001b[1;32m    183\u001b[0m \u001b[0;34m\u001b[0m\u001b[0m\n\u001b[0;32m--> 184\u001b[0;31m         \u001b[0mtree\u001b[0m\u001b[0;34m.\u001b[0m\u001b[0mfit\u001b[0m\u001b[0;34m(\u001b[0m\u001b[0mX\u001b[0m\u001b[0;34m,\u001b[0m \u001b[0my\u001b[0m\u001b[0;34m,\u001b[0m \u001b[0msample_weight\u001b[0m\u001b[0;34m=\u001b[0m\u001b[0mcurr_sample_weight\u001b[0m\u001b[0;34m,\u001b[0m \u001b[0mcheck_input\u001b[0m\u001b[0;34m=\u001b[0m\u001b[0;32mFalse\u001b[0m\u001b[0;34m)\u001b[0m\u001b[0;34m\u001b[0m\u001b[0;34m\u001b[0m\u001b[0m\n\u001b[0m\u001b[1;32m    185\u001b[0m     \u001b[0;32melse\u001b[0m\u001b[0;34m:\u001b[0m\u001b[0;34m\u001b[0m\u001b[0;34m\u001b[0m\u001b[0m\n\u001b[1;32m    186\u001b[0m         \u001b[0mtree\u001b[0m\u001b[0;34m.\u001b[0m\u001b[0mfit\u001b[0m\u001b[0;34m(\u001b[0m\u001b[0mX\u001b[0m\u001b[0;34m,\u001b[0m \u001b[0my\u001b[0m\u001b[0;34m,\u001b[0m \u001b[0msample_weight\u001b[0m\u001b[0;34m=\u001b[0m\u001b[0msample_weight\u001b[0m\u001b[0;34m,\u001b[0m \u001b[0mcheck_input\u001b[0m\u001b[0;34m=\u001b[0m\u001b[0;32mFalse\u001b[0m\u001b[0;34m)\u001b[0m\u001b[0;34m\u001b[0m\u001b[0;34m\u001b[0m\u001b[0m\n",
            "\u001b[0;32m/usr/local/lib/python3.10/dist-packages/sklearn/tree/_classes.py\u001b[0m in \u001b[0;36mfit\u001b[0;34m(self, X, y, sample_weight, check_input)\u001b[0m\n\u001b[1;32m    887\u001b[0m         \"\"\"\n\u001b[1;32m    888\u001b[0m \u001b[0;34m\u001b[0m\u001b[0m\n\u001b[0;32m--> 889\u001b[0;31m         super().fit(\n\u001b[0m\u001b[1;32m    890\u001b[0m             \u001b[0mX\u001b[0m\u001b[0;34m,\u001b[0m\u001b[0;34m\u001b[0m\u001b[0;34m\u001b[0m\u001b[0m\n\u001b[1;32m    891\u001b[0m             \u001b[0my\u001b[0m\u001b[0;34m,\u001b[0m\u001b[0;34m\u001b[0m\u001b[0;34m\u001b[0m\u001b[0m\n",
            "\u001b[0;32m/usr/local/lib/python3.10/dist-packages/sklearn/tree/_classes.py\u001b[0m in \u001b[0;36mfit\u001b[0;34m(self, X, y, sample_weight, check_input)\u001b[0m\n\u001b[1;32m    377\u001b[0m             )\n\u001b[1;32m    378\u001b[0m \u001b[0;34m\u001b[0m\u001b[0m\n\u001b[0;32m--> 379\u001b[0;31m         \u001b[0mbuilder\u001b[0m\u001b[0;34m.\u001b[0m\u001b[0mbuild\u001b[0m\u001b[0;34m(\u001b[0m\u001b[0mself\u001b[0m\u001b[0;34m.\u001b[0m\u001b[0mtree_\u001b[0m\u001b[0;34m,\u001b[0m \u001b[0mX\u001b[0m\u001b[0;34m,\u001b[0m \u001b[0my\u001b[0m\u001b[0;34m,\u001b[0m \u001b[0msample_weight\u001b[0m\u001b[0;34m)\u001b[0m\u001b[0;34m\u001b[0m\u001b[0;34m\u001b[0m\u001b[0m\n\u001b[0m\u001b[1;32m    380\u001b[0m \u001b[0;34m\u001b[0m\u001b[0m\n\u001b[1;32m    381\u001b[0m         \u001b[0;32mif\u001b[0m \u001b[0mself\u001b[0m\u001b[0;34m.\u001b[0m\u001b[0mn_outputs_\u001b[0m \u001b[0;34m==\u001b[0m \u001b[0;36m1\u001b[0m \u001b[0;32mand\u001b[0m \u001b[0mis_classifier\u001b[0m\u001b[0;34m(\u001b[0m\u001b[0mself\u001b[0m\u001b[0;34m)\u001b[0m\u001b[0;34m:\u001b[0m\u001b[0;34m\u001b[0m\u001b[0;34m\u001b[0m\u001b[0m\n",
            "\u001b[0;31mKeyboardInterrupt\u001b[0m: "
          ]
        }
      ],
      "source": [
        "'''for index in range(21,50):\n",
        "  classifier= RandomForestClassifier(n_estimators=200,oob_score = True, max_features=index )  \n",
        "  classifier.fit(x_train_standardscaler, y_train.values.ravel())  \n",
        "  prediction = rf.predict(x_test_standardscaler)\n",
        "  acc_standardscaler = accuracy_score(y_test, prediction)\n",
        "  print(\"max_feature: \", index, \" Accuracy: \", acc_standardscaler)\n",
        "  \n",
        "  \n",
        "  model_random = RandomForestClassifier(max_depth=6,\n",
        "                                      max_features='auto',\n",
        "                                      max_leaf_nodes=6,\n",
        "                                      n_estimators=50)\n",
        "  model_random.fit(x_train_standardscaler, y_train.values.ravel())\n",
        "  y_pred_rand = model_random.predict(x_test_standardscaler)\n",
        "  acc_RandomizedSearchCV = accuracy_score(y_test, y_pred_rand)\n",
        "  print(acc_RandomizedSearchCV)\n",
        "  '''"
      ]
    },
    {
      "cell_type": "code",
      "execution_count": 34,
      "metadata": {
        "colab": {
          "base_uri": "https://localhost:8080/"
        },
        "id": "0kHT4Fmp2oMQ",
        "outputId": "e6b10ab2-8bab-4ad7-ff91-028dce1a914c"
      },
      "outputs": [
        {
          "output_type": "stream",
          "name": "stdout",
          "text": [
            "0.5741688852481398\n"
          ]
        }
      ],
      "source": [
        "from imblearn.pipeline import Pipeline\n",
        "from sklearn.naive_bayes import GaussianNB\n",
        "smote = SMOTE(random_state=42)\n",
        "\n",
        "classifier = GaussianNB()\n",
        "pipeline = Pipeline([('smote', smote), ('classifier', classifier)])\n",
        "\n",
        "param_grid = {'classifier__var_smoothing': [1e-9, 1e-8, 1e-7, 1e-6, 1e-5]}\n",
        "\n",
        "grid_search = GridSearchCV(pipeline, param_grid, cv=5)\n",
        "grid_search.fit(x_train_standardscaler, y_train.values.ravel())\n",
        "\n",
        "best_classifier = grid_search.best_estimator_\n",
        "\n",
        "y_pred = best_classifier.predict(x_test_standardscaler)\n",
        "acc_GaussianNB = accuracy_score(y_test, y_pred)\n",
        "print(acc_GaussianNB)"
      ]
    },
    {
      "cell_type": "code",
      "source": [
        "print(grid_search.best_estimator_)"
      ],
      "metadata": {
        "colab": {
          "base_uri": "https://localhost:8080/"
        },
        "id": "4H3dbA8PbHSU",
        "outputId": "95145e64-60f8-4e98-e208-48254f682c94"
      },
      "execution_count": 36,
      "outputs": [
        {
          "output_type": "stream",
          "name": "stdout",
          "text": [
            "Pipeline(steps=[('smote', SMOTE(random_state=42)),\n",
            "                ('classifier', GaussianNB(var_smoothing=1e-07))])\n"
          ]
        }
      ]
    },
    {
      "cell_type": "code",
      "source": [
        "classifier_cross = GaussianNB(var_smoothing=1e-07)\n",
        "cv_scores = cross_val_score(classifier, x_train_standardscaler, y_train.values.ravel(), cv=5)  # 5-fold cross-validation\n",
        "\n",
        "# Print the cross-validation scores\n",
        "print(\"Cross-validation scores:\", cv_scores)\n",
        "print(\"Mean cross-validation score:\", cv_scores.mean())"
      ],
      "metadata": {
        "colab": {
          "base_uri": "https://localhost:8080/"
        },
        "id": "QI-u2U2tayD6",
        "outputId": "0efc0ba0-95d7-421c-b06e-00027a5d9db1"
      },
      "execution_count": 37,
      "outputs": [
        {
          "output_type": "stream",
          "name": "stdout",
          "text": [
            "Cross-validation scores: [0.56393629 0.56564278 0.56422801 0.56434179 0.56422801]\n",
            "Mean cross-validation score: 0.5644753765145722\n"
          ]
        }
      ]
    }
  ],
  "metadata": {
    "colab": {
      "provenance": [],
      "include_colab_link": true
    },
    "kernelspec": {
      "display_name": "Python 3",
      "name": "python3"
    },
    "language_info": {
      "name": "python"
    }
  },
  "nbformat": 4,
  "nbformat_minor": 0
}